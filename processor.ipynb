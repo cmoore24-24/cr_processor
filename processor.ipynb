{
 "cells": [
  {
   "cell_type": "code",
   "execution_count": 4,
   "id": "9847e36f",
   "metadata": {},
   "outputs": [],
   "source": [
    "import numpy as np\n",
    "import awkward as ak\n",
    "from coffea import processor\n",
    "import json\n",
    "import hist\n",
    "from coffea.nanoevents import NanoEventsFactory, BaseSchema, PFNanoAODSchema\n",
    "import coffea.nanoevents.methods.vector as vector\n",
    "import warnings\n",
    "import matplotlib.pyplot as plt\n",
    "from lpcjobqueue import LPCCondorCluster\n",
    "from distributed import Client\n",
    "import fastjet"
   ]
  },
  {
   "cell_type": "code",
   "execution_count": 2,
   "id": "8deffc26",
   "metadata": {},
   "outputs": [],
   "source": [
    "warnings.filterwarnings(\"ignore\", \"Found duplicate branch\")\n",
    "warnings.filterwarnings(\"ignore\", \"Missing cross-reference index for\")\n",
    "warnings.filterwarnings(\"ignore\", \"dcut\")"
   ]
  },
  {
   "cell_type": "code",
   "execution_count": null,
   "id": "8c05bb21",
   "metadata": {},
   "outputs": [],
   "source": [
    "cluster = LPCCondorCluster(ship_env=True)\n",
    "cluster.adapt(minimum=0, maximum=75)\n",
    "client = Client(cluster)"
   ]
  },
  {
   "cell_type": "code",
   "execution_count": 3,
   "id": "2995b9cd",
   "metadata": {},
   "outputs": [],
   "source": [
    "#with open(\"jsons/qcd_and_more_hj_files.json\") as fin:\n",
    "with open(\"jsons/600-800.json\") as fin:\n",
    "    filesets = json.load(fin)"
   ]
  },
  {
   "cell_type": "code",
   "execution_count": null,
   "id": "2e0c03c8",
   "metadata": {},
   "outputs": [],
   "source": [
    "class MyProcessor(processor.ProcessorABC):\n",
    "    \n",
    "    def __init__(self):\n",
    "        pass\n",
    "    \n",
    "    def process(self, events):\n",
    "        dataset = events.metadata['dataset']\n",
    "        \n",
    "        fatjet = events.FatJet\n",
    "        pt_cut = (fatjet.pt > 300)\n",
    "        boosted_fatjet = fatjet[pt_cut]\n",
    "        \n",
    "        def color_ring(fatjet):\n",
    "            jetdef = fastjet.JetDefinition(fastjet.antikt_algorithm, 1.0)\n",
    "            pf = ak.flatten(fatjet.constituents.pf, axis=1)\n",
    "            cluster = fastjet.ClusterSequence(pf, jetdef)\n",
    "            subjets = cluster.exclusive_subjets_up_to(data=cluster.exclusive_jets(n_jets=1), nsub=3)\n",
    "            vec = ak.zip({\n",
    "                \"x\": subjets.px,\n",
    "                \"y\": subjets.py,\n",
    "                \"z\": subjets.pz,\n",
    "                \"t\": subjets.E,\n",
    "                },\n",
    "                with_name = \"LorentzVector\",\n",
    "                behavior=vector.behavior,\n",
    "                )\n",
    "            vec = ak.pad_none(vec, 3)\n",
    "            vec[\"norm3\"] = np.sqrt(vec.dot(vec))\n",
    "            i, j = ak.unzip(ak.combinations(vec, 2))\n",
    "            best = ak.argmax((i + j).mass, axis=1, keepdims=True)\n",
    "            leg1, leg2 = i[best], j[best]\n",
    "            #assert ak.all((leg1 + leg2).mass == ak.max((i + j).mass, axis=1))\n",
    "            leg3 = vec[(best == 0)*2 + (best == 1)*1 + (best == 2)*0]\n",
    "            #assert ak.all(leg3.x != leg1.x)\n",
    "            #assert ak.all(leg3.x != leg2.x)\n",
    "            a12 = np.arccos(leg1.dot(leg2) / (leg1.norm3 * leg2.norm3))\n",
    "            a13 = np.arccos(leg1.dot(leg3) / (leg1.norm3 * leg3.norm3))\n",
    "            a23 = np.arccos(leg2.dot(leg3) / (leg2.norm3 * leg3.norm3))\n",
    "            color_ring = ((a13**2 + a23**2)/(a12**2))\n",
    "            return color_ring\n",
    "        uf_cr = ak.unflatten(ak.flatten(color_ring(boosted_fatjet)), counts=ak.num(boosted_fatjet))\n",
    "        boosted_fatjet['color_ring'] = uf_cr\n",
    "        \n",
    "        hcr = (\n",
    "            hist.Hist.new\n",
    "            .Reg(40, 0, 10, name='color_ring', label='Color_Ring')\n",
    "            .Double()\n",
    "        )\n",
    "        \n",
    "        #cut = (fatjet.pt > 450) & (fatjet.btagDeepB < 0.4941) & (fatjet.color_ring <= 1)\n",
    "        #subset = fatjet[cut]\n",
    "        fill_cr = ak.fill_none(ak.flatten(boosted_fatjet.color_ring), 99999)\n",
    "        hcr.fill(color_ring=fill_cr)\n",
    "        \n",
    "        return {\n",
    "            dataset: {\n",
    "                \"entries\": len(events),\n",
    "                \"Color_Ring\": hcr,\n",
    "            }\n",
    "        }\n",
    "    \n",
    "    def postprocess(self, accumulator):\n",
    "        pass"
   ]
  },
  {
   "cell_type": "code",
   "execution_count": null,
   "id": "1ec040ce",
   "metadata": {},
   "outputs": [],
   "source": [
    "processor_instance=MyProcessor()\n",
    "futures_run = processor.Runner(\n",
    "    #executor = processor.FuturesExecutor(compression=None, workers=8),\n",
    "    executor = processor.DaskExecutor(client=client),\n",
    "    schema=PFNanoAODSchema,\n",
    "    #skipbadfiles=True,\n",
    "    #maxchunks=10,\n",
    "    #chunksize=1000,\n",
    ")\n",
    "\n",
    "out = futures_run(\n",
    "    filesets,\n",
    "    \"Events\",\n",
    "    processor_instance=MyProcessor()\n",
    ")\n",
    "out"
   ]
  },
  {
   "cell_type": "code",
   "execution_count": null,
   "id": "a78fe0c9",
   "metadata": {},
   "outputs": [],
   "source": []
  },
  {
   "cell_type": "code",
   "execution_count": null,
   "id": "1f431b95",
   "metadata": {},
   "outputs": [],
   "source": [
    "fig, ax = plt.subplots()\n",
    "out['Hbb']['Color_Ring'].plot1d(ax=ax)\n",
    "plt.xlim(0,1)"
   ]
  },
  {
   "cell_type": "code",
   "execution_count": null,
   "id": "b38ff92d",
   "metadata": {},
   "outputs": [],
   "source": [
    "filesets[\"QCD_Pt_470to600_TuneCP5_13TeV_pythia8\"][-1]"
   ]
  },
  {
   "cell_type": "code",
   "execution_count": null,
   "id": "06dd3493",
   "metadata": {},
   "outputs": [],
   "source": [
    "events = NanoEventsFactory.from_root(\n",
    "    filesets[\"QCD_Pt_470to600_TuneCP5_13TeV_pythia8\"][-1],\n",
    "    schemaclass=PFNanoAODSchema,\n",
    ").events()"
   ]
  },
  {
   "cell_type": "code",
   "execution_count": null,
   "id": "ff9ceb8e",
   "metadata": {},
   "outputs": [],
   "source": [
    "fatjet = events.FatJet\n",
    "pt_cut = (fatjet.pt > 300)\n",
    "boosted_fatjet = fatjet[pt_cut]"
   ]
  },
  {
   "cell_type": "code",
   "execution_count": 5,
   "id": "c1124fd3",
   "metadata": {},
   "outputs": [],
   "source": [
    "def color_ring(fatjet):\n",
    "    jetdef = fastjet.JetDefinition(fastjet.antikt_algorithm, 1.0)\n",
    "    pf = ak.flatten(fatjet.constituents.pf, axis=1)\n",
    "    cluster = fastjet.ClusterSequence(pf, jetdef)\n",
    "    subjets = cluster.exclusive_subjets_up_to(data=cluster.exclusive_jets(n_jets=1), nsub=3)\n",
    "    vec = ak.zip({\n",
    "        \"x\": subjets.px,\n",
    "        \"y\": subjets.py,\n",
    "        \"z\": subjets.pz,\n",
    "        \"t\": subjets.E,\n",
    "        },\n",
    "        with_name = \"LorentzVector\",\n",
    "        behavior=vector.behavior,\n",
    "        )\n",
    "    vec = ak.pad_none(vec, 3)\n",
    "    vec[\"norm3\"] = np.sqrt(vec.dot(vec))\n",
    "    i, j = ak.unzip(ak.combinations(vec, 2))\n",
    "    best = ak.argmax((i + j).mass, axis=1, keepdims=True)\n",
    "    leg1, leg2 = i[best], j[best]\n",
    "    #assert ak.all((leg1 + leg2).mass == ak.max((i + j).mass, axis=1))\n",
    "    leg3 = vec[(best == 0)*2 + (best == 1)*1 + (best == 2)*0]\n",
    "    #assert ak.all(leg3.x != leg1.x)\n",
    "    #assert ak.all(leg3.x != leg2.x)\n",
    "    a12 = np.arccos(leg1.dot(leg2) / (leg1.norm3 * leg2.norm3))\n",
    "    a13 = np.arccos(leg1.dot(leg3) / (leg1.norm3 * leg3.norm3))\n",
    "    a23 = np.arccos(leg2.dot(leg3) / (leg2.norm3 * leg3.norm3))\n",
    "    color_ring = ((a13**2 + a23**2)/(a12**2))\n",
    "    return color_ring"
   ]
  },
  {
   "cell_type": "code",
   "execution_count": null,
   "id": "d0eb4431",
   "metadata": {},
   "outputs": [],
   "source": [
    "uf_cr = ak.unflatten(ak.flatten(color_ring(boosted_fatjet)), counts=ak.num(boosted_fatjet))\n",
    "boosted_fatjet['color_ring'] = uf_cr"
   ]
  },
  {
   "cell_type": "code",
   "execution_count": null,
   "id": "cc50c640",
   "metadata": {},
   "outputs": [],
   "source": [
    "hcr = (\n",
    "            hist.Hist.new\n",
    "            .Reg(20, 0, 50, name='color_ring', label='Color_Ring')\n",
    "            .Double()\n",
    "        )"
   ]
  },
  {
   "cell_type": "code",
   "execution_count": null,
   "id": "900c91a9",
   "metadata": {},
   "outputs": [],
   "source": [
    "fill_cr = ak.fill_none(ak.flatten(boosted_fatjet.color_ring), 0)"
   ]
  },
  {
   "cell_type": "code",
   "execution_count": null,
   "id": "55b44417",
   "metadata": {},
   "outputs": [],
   "source": [
    "hcr.fill(color_ring=fill_cr)"
   ]
  },
  {
   "cell_type": "code",
   "execution_count": null,
   "id": "25d0ba45",
   "metadata": {
    "scrolled": true
   },
   "outputs": [
    {
     "name": "stdout",
     "output_type": "stream",
     "text": [
      "#--------------------------------------------------------------------------\n",
      "#                         FastJet release 3.4.0\n",
      "#                 M. Cacciari, G.P. Salam and G. Soyez                  \n",
      "#     A software package for jet finding and analysis at colliders      \n",
      "#                           http://fastjet.fr                           \n",
      "#\t                                                                      \n",
      "# Please cite EPJC72(2012)1896 [arXiv:1111.6097] if you use this package\n",
      "# for scientific work and optionally PLB641(2006)57 [hep-ph/0512210].   \n",
      "#                                                                       \n",
      "# FastJet is provided without warranty under the GNU GPL v2 or higher.  \n",
      "# It uses T. Chan's closest pair algorithm, S. Fortune's Voronoi code,\n",
      "# CGAL and 3rd party plugin jet algorithms. See COPYING file for details.\n",
      "#--------------------------------------------------------------------------\n",
      "0\n",
      "20\n",
      "40\n"
     ]
    },
    {
     "name": "stderr",
     "output_type": "stream",
     "text": [
      "RuntimeWarning: invalid value encountered in sqrt\n"
     ]
    },
    {
     "name": "stdout",
     "output_type": "stream",
     "text": [
      "60\n",
      "80\n",
      "100\n",
      "120\n",
      "140\n",
      "160\n",
      "180\n",
      "200\n",
      "220\n",
      "240\n",
      "260\n",
      "280\n",
      "300\n",
      "320\n",
      "340\n",
      "360\n",
      "380\n",
      "400\n",
      "420\n"
     ]
    }
   ],
   "source": [
    "import warnings\n",
    "#warnings.filterwarnings(\"error\", \"invalid value encountered in sqrt\")\n",
    "bad = []\n",
    "for i in range(len(filesets[\"QCD_Pt_600to800_TuneCP5_13TeV_pythia8\"])):\n",
    "#for i in range(10,15):\n",
    "    try:\n",
    "        events = NanoEventsFactory.from_root(\n",
    "            filesets[\"QCD_Pt_600to800_TuneCP5_13TeV_pythia8\"][i],\n",
    "            schemaclass=PFNanoAODSchema,\n",
    "        ).events()\n",
    "        fatjet = events.FatJet\n",
    "        pt_cut = (fatjet.pt > 300)\n",
    "        boosted_fatjet = fatjet[pt_cut]\n",
    "        uf_cr = ak.unflatten(ak.flatten(color_ring(boosted_fatjet)), counts=ak.num(boosted_fatjet))\n",
    "        boosted_fatjet['color_ring'] = uf_cr\n",
    "        hcr = (\n",
    "                hist.Hist.new\n",
    "                .Reg(20, 0, 50, name='color_ring', label='Color_Ring')\n",
    "                .Double()\n",
    "            )\n",
    "        fill_cr = ak.fill_none(ak.flatten(boosted_fatjet.color_ring), 99999)\n",
    "        hcr.fill(color_ring=fill_cr)\n",
    "    except:\n",
    "        bad.append(filesets[\"QCD_Pt_600to800_TuneCP5_13TeV_pythia8\"][i])\n",
    "    if i % 20 == 0:\n",
    "        print(i)"
   ]
  },
  {
   "cell_type": "code",
   "execution_count": null,
   "id": "723c7e62",
   "metadata": {},
   "outputs": [],
   "source": [
    "bad"
   ]
  },
  {
   "cell_type": "code",
   "execution_count": null,
   "id": "3eec6397",
   "metadata": {},
   "outputs": [],
   "source": [
    "with open('600-800_bad.txt','w') as f:\n",
    "    for i in bad:\n",
    "        f.write(i+'\\n')"
   ]
  },
  {
   "cell_type": "code",
   "execution_count": null,
   "id": "3989fa16",
   "metadata": {},
   "outputs": [],
   "source": [
    "events.FatJet"
   ]
  },
  {
   "cell_type": "code",
   "execution_count": null,
   "id": "459e6bd2",
   "metadata": {},
   "outputs": [],
   "source": [
    "color_ring(boosted_fatjet)"
   ]
  },
  {
   "cell_type": "code",
   "execution_count": null,
   "id": "8c5f8e29",
   "metadata": {},
   "outputs": [],
   "source": [
    "ak.flatten(boosted_fatjet)"
   ]
  },
  {
   "cell_type": "code",
   "execution_count": null,
   "id": "da6c764e",
   "metadata": {},
   "outputs": [],
   "source": []
  }
 ],
 "metadata": {
  "kernelspec": {
   "display_name": "Python 3 (ipykernel)",
   "language": "python",
   "name": "python3"
  },
  "language_info": {
   "codemirror_mode": {
    "name": "ipython",
    "version": 3
   },
   "file_extension": ".py",
   "mimetype": "text/x-python",
   "name": "python",
   "nbconvert_exporter": "python",
   "pygments_lexer": "ipython3",
   "version": "3.8.15"
  }
 },
 "nbformat": 4,
 "nbformat_minor": 5
}
