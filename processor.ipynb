{
 "cells": [
  {
   "cell_type": "code",
   "execution_count": null,
   "id": "9847e36f",
   "metadata": {},
   "outputs": [],
   "source": [
    "import numpy as np\n",
    "import awkward as ak\n",
    "from coffea import processor\n",
    "import json\n",
    "import hist\n",
    "from coffea.nanoevents import NanoEventsFactory, BaseSchema, PFNanoAODSchema\n",
    "import coffea.nanoevents.methods.vector as vector\n",
    "import warnings\n",
    "import matplotlib.pyplot as plt\n",
    "from lpcjobqueue import LPCCondorCluster\n",
    "from distributed import Client\n",
    "import fastjet"
   ]
  },
  {
   "cell_type": "code",
   "execution_count": null,
   "id": "8deffc26",
   "metadata": {},
   "outputs": [],
   "source": [
    "warnings.filterwarnings(\"ignore\", \"Found duplicate branch\")\n",
    "warnings.filterwarnings(\"ignore\", \"Missing cross-reference index for\")\n",
    "warnings.filterwarnings(\"ignore\", \"dcut\")"
   ]
  },
  {
   "cell_type": "code",
   "execution_count": null,
   "id": "8c05bb21",
   "metadata": {},
   "outputs": [],
   "source": [
    "cluster = LPCCondorCluster(ship_env=True)\n",
    "cluster.adapt(minimum=0, maximum=75)\n",
    "client = Client(cluster)"
   ]
  },
  {
   "cell_type": "code",
   "execution_count": null,
   "id": "2995b9cd",
   "metadata": {},
   "outputs": [],
   "source": [
    "with open(\"qcd_hj_hbb.json\") as fin:\n",
    "    filesets = json.load(fin)"
   ]
  },
  {
   "cell_type": "code",
   "execution_count": null,
   "id": "2e0c03c8",
   "metadata": {},
   "outputs": [],
   "source": [
    "class MyProcessor(processor.ProcessorABC):\n",
    "    \n",
    "    def __init__(self):\n",
    "        pass\n",
    "    \n",
    "    def process(self, events):\n",
    "        dataset = events.metadata['dataset']\n",
    "        \n",
    "        fatjet = events.FatJet\n",
    "        pt_cut = (fatjet.pt > 300)\n",
    "        boosted_fatjet = fatjet[pt_cut]\n",
    "        \n",
    "        def color_ring(fatjet):\n",
    "            jetdef = fastjet.JetDefinition(fastjet.antikt_algorithm, 1.0)\n",
    "            pf = ak.flatten(fatjet.constituents.pf, axis=1)\n",
    "            cluster = fastjet.ClusterSequence(pf, jetdef)\n",
    "            subjets = cluster.exclusive_subjets_up_to(data=cluster.exclusive_jets(n_jets=1), nsub=3)\n",
    "            vec = ak.zip({\n",
    "                \"x\": subjets.px,\n",
    "                \"y\": subjets.py,\n",
    "                \"z\": subjets.pz,\n",
    "                \"t\": subjets.E,\n",
    "                },\n",
    "                with_name = \"LorentzVector\",\n",
    "                behavior=vector.behavior,\n",
    "                )\n",
    "            vec = ak.pad_none(vec, 3)\n",
    "            vec[\"norm3\"] = np.sqrt(vec.dot(vec))\n",
    "            i, j = ak.unzip(ak.combinations(vec, 2))\n",
    "            best = ak.argmax((i + j).mass, axis=1, keepdims=True)\n",
    "            leg1, leg2 = i[best], j[best]\n",
    "            #assert ak.all((leg1 + leg2).mass == ak.max((i + j).mass, axis=1))\n",
    "            leg3 = vec[(best == 0)*2 + (best == 1)*1 + (best == 2)*0]\n",
    "            #assert ak.all(leg3.x != leg1.x)\n",
    "            #assert ak.all(leg3.x != leg2.x)\n",
    "            a12 = np.arccos(leg1.dot(leg2) / (leg1.norm3 * leg2.norm3))\n",
    "            a13 = np.arccos(leg1.dot(leg3) / (leg1.norm3 * leg3.norm3))\n",
    "            a23 = np.arccos(leg2.dot(leg3) / (leg2.norm3 * leg3.norm3))\n",
    "            color_ring = ((a13**2 + a23**2)/(a12**2))\n",
    "            return color_ring\n",
    "        uf_cr = ak.unflatten(ak.flatten(color_ring(boosted_fatjet)), counts=ak.num(boosted_fatjet))\n",
    "        boosted_fatjet['color_ring'] = uf_cr\n",
    "        \n",
    "        hcr = (\n",
    "            hist.Hist.new\n",
    "            .Reg(40, 0, 10, name='color_ring', label='Color_Ring')\n",
    "            .Double()\n",
    "        )\n",
    "        \n",
    "        fill_cr = ak.fill_none(ak.flatten(boosted_fatjet.color_ring), 99999)\n",
    "        hcr.fill(color_ring=fill_cr)\n",
    "        \n",
    "        return {\n",
    "            dataset: {\n",
    "                \"entries\": len(events),\n",
    "                \"Color_Ring\": hcr,\n",
    "            }\n",
    "        }\n",
    "    \n",
    "    def postprocess(self, accumulator):\n",
    "        pass"
   ]
  },
  {
   "cell_type": "code",
   "execution_count": null,
   "id": "1ec040ce",
   "metadata": {},
   "outputs": [],
   "source": [
    "processor_instance=MyProcessor()\n",
    "futures_run = processor.Runner(\n",
    "    #executor = processor.FuturesExecutor(compression=None, workers=8),\n",
    "    executor = processor.DaskExecutor(client=client),\n",
    "    schema=PFNanoAODSchema,\n",
    ")\n",
    "\n",
    "out = futures_run(\n",
    "    filesets,\n",
    "    \"Events\",\n",
    "    processor_instance=MyProcessor()\n",
    ")\n",
    "out"
   ]
  }
 ],
 "metadata": {
  "kernelspec": {
   "display_name": "Python 3 (ipykernel)",
   "language": "python",
   "name": "python3"
  },
  "language_info": {
   "codemirror_mode": {
    "name": "ipython",
    "version": 3
   },
   "file_extension": ".py",
   "mimetype": "text/x-python",
   "name": "python",
   "nbconvert_exporter": "python",
   "pygments_lexer": "ipython3",
   "version": "3.8.15"
  }
 },
 "nbformat": 4,
 "nbformat_minor": 5
}
